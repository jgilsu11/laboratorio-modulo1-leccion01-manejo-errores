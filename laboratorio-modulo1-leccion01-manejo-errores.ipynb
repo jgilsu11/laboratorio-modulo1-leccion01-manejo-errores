{
 "cells": [
  {
   "cell_type": "markdown",
   "metadata": {},
   "source": [
    "\n",
    "<div style=\"text-align: center;\">\n",
    "  <img src=\"https://github.com/Hack-io-Data/Imagenes/blob/main/01-LogosHackio/logo_celeste@4x.png?raw=true\" alt=\"esquema\" />\n",
    "</div>\n"
   ]
  },
  {
   "cell_type": "markdown",
   "metadata": {},
   "source": [
    "# Laboratorio de Python: manejo de errores."
   ]
  },
  {
   "cell_type": "markdown",
   "metadata": {},
   "source": [
    "## Ejercicio 1: División con manejo de excepciones\n",
    "\n",
    "Escribe un programa que pida al usuario dos números e intente dividirlos. Si el usuario ingresa un valor no numérico o intenta dividir por cero, maneja esas excepciones de manera adecuada. Asegúrate de mostrar un mensaje indicando si la división fue exitosa o no.\n"
   ]
  },
  {
   "cell_type": "code",
   "execution_count": 18,
   "metadata": {},
   "outputs": [
    {
     "name": "stdout",
     "output_type": "stream",
     "text": [
      "Estás inentando dividir entre 0\n"
     ]
    }
   ],
   "source": [
    "try:\n",
    "    numerador=int(input(\"Escribe un número como numerador: \"))\n",
    "    denominador=int(input(\"Escribe un número como denominador: \"))# le he puesto el try antes porque así la obligación de int que daría error lleva automaticamente al except \n",
    "    resultado = numerador/denominador\n",
    "    print (resultado)\n",
    "except ValueError:\n",
    "    print(\"Debes introducir un valor que sea numérico\")\n",
    "except ZeroDivisionError:\n",
    "    print(\"Estás inentando dividir entre 0\")"
   ]
  },
  {
   "cell_type": "markdown",
   "metadata": {},
   "source": [
    "## Ejercicio 2: Acceso a archivos\n",
    "\n",
    "Escribe un programa que intente abrir un archivo llamado \"datos.txt\". Si el archivo no existe, captura la excepción y muestra un mensaje de error. Asegúrate de cerrar el archivo correctamente en la sección `finally`.\n"
   ]
  },
  {
   "cell_type": "code",
   "execution_count": 39,
   "metadata": {},
   "outputs": [
    {
     "name": "stdout",
     "output_type": "stream",
     "text": [
      "Error, archivo no encontrado\n",
      "Error porque archivo es str\n"
     ]
    }
   ],
   "source": [
    "\n",
    "try:\n",
    "   archivo= open(\"datos.txt\")\n",
    "except FileNotFoundError:\n",
    "    print(\"Error, archivo no encontrado\")\n",
    "finally: \n",
    "    try:\n",
    "        archivo.close()\n",
    "    except AttributeError:\n",
    "        print(\"Error porque archivo es str\")\n",
    "\n",
    "#He tenido que crear una variable archivo porque (\"datos.txt\").close me decía que no podía cerrar algo en formato str (Cosa q tienen sentido jeje)  \n",
    "#Me sale que archivo es str y me da un attributeerror por eso lo he incluido en un except aunq no sé si estará bien"
   ]
  },
  {
   "cell_type": "markdown",
   "metadata": {},
   "source": [
    "## Ejercicio 3: Conversión de cadenas a enteros\n",
    "\n",
    "Escribe un programa que pida una lista de números separados por comas y convierta cada valor a un número entero. Maneja las excepciones para valores que no sean convertibles y asegúrate de informar si la conversión fue exitosa o no.\n"
   ]
  },
  {
   "cell_type": "code",
   "execution_count": 55,
   "metadata": {},
   "outputs": [
    {
     "name": "stdout",
     "output_type": "stream",
     "text": [
      "1\n",
      "<class 'int'>\n",
      "2\n",
      "<class 'int'>\n",
      "3\n",
      "<class 'int'>\n",
      "4\n",
      "<class 'int'>\n"
     ]
    }
   ],
   "source": [
    "lista_numeros= list(input(\"Escribe una lista de números separados por comas: \"))\n",
    "for numero in lista_numeros:\n",
    "    if type(numero) != int:\n",
    "        try:\n",
    "            numero=int(numero)\n",
    "        except:\n",
    "            continue    \n",
    "    print(numero)\n",
    "    print (type(numero))         "
   ]
  },
  {
   "cell_type": "markdown",
   "metadata": {},
   "source": [
    "#### Ejercicio 4: Cálculo del promedio con manejo de excepciones\n",
    "\n",
    "Escribe una función que reciba una lista de números y calcule su promedio. Si la lista está vacía, lanza una excepción personalizada y maneja el error adecuadamente.\n"
   ]
  },
  {
   "cell_type": "code",
   "execution_count": 60,
   "metadata": {},
   "outputs": [
    {
     "name": "stdout",
     "output_type": "stream",
     "text": [
      "No hay ningún promedio que calcular\n"
     ]
    }
   ],
   "source": [
    "def calcular_promedio(numeros):\n",
    "    promedio= sum(numeros)/len(numeros)\n",
    "    return promedio\n",
    "try:\n",
    "    lista_numérica= []\n",
    "    resultado= calcular_promedio(lista_numérica)\n",
    "    print(f\"El promedio de los números proporcionados es {resultado} \")\n",
    "except:\n",
    "    print(\"No hay ningún promedio que calcular\")\n",
    "#Para comprobar que si está vacía funciona bien"
   ]
  },
  {
   "cell_type": "code",
   "execution_count": 63,
   "metadata": {},
   "outputs": [
    {
     "name": "stdout",
     "output_type": "stream",
     "text": [
      "El promedio de los números proporcionados es 5.0 \n"
     ]
    }
   ],
   "source": [
    "def calcular_promedio(numeros):\n",
    "    promedio= sum(numeros)/len(numeros)\n",
    "    return promedio\n",
    "try:\n",
    "    lista_numérica= [2,4,6,8]\n",
    "    resultado= calcular_promedio(lista_numérica)\n",
    "    print(f\"El promedio de los números proporcionados es {resultado} \")\n",
    "except:\n",
    "    print(\"No hay ningún promedio que calcular\")"
   ]
  },
  {
   "cell_type": "markdown",
   "metadata": {},
   "source": [
    "#### Ejercicio 5: Conversión segura de números\n",
    "\n",
    "Escribe un programa que convierta una cadena a número flotante e intente realizar una operación aritmética. Si la conversión falla, maneja la excepción y continúa con el flujo normal."
   ]
  },
  {
   "cell_type": "code",
   "execution_count": 96,
   "metadata": {},
   "outputs": [
    {
     "name": "stdout",
     "output_type": "stream",
     "text": [
      "El número flotante es el 6.23\n",
      "El resultado de la operación es 12.46\n",
      "Error, la cadena 'ánimo' no se puede convertir a un número flotante.\n",
      "El número flotante es el 42.0\n",
      "El resultado de la operación es 84.0\n"
     ]
    }
   ],
   "source": [
    "def juguetear(cadena):\n",
    "    try:\n",
    "        numero_flotante = float(cadena)\n",
    "        resultado = numero_flotante * 2 \n",
    "        print(f\"El número flotante es el {numero_flotante}\")\n",
    "        print(f\"El resultado de la operación es {resultado}\")\n",
    "    except ValueError:\n",
    "        print(f\"Error, la cadena '{cadena}' no se puede convertir a un número flotante.\")\n",
    "\n",
    "\n",
    "cadenas = [\"6.23\", \"ánimo\", \"42\"]\n",
    "for cadena in cadenas:\n",
    "    juguetear(cadena)\n"
   ]
  },
  {
   "cell_type": "markdown",
   "metadata": {},
   "source": [
    "#### Ejercicio 6: Acceso a claves en diccionarios\n",
    "\n",
    "Escribe un programa que intente acceder a una clave específica en un diccionario. Si la clave no existe, maneja la excepción `KeyError` y muestra un mensaje indicando el problema."
   ]
  },
  {
   "cell_type": "code",
   "execution_count": 82,
   "metadata": {},
   "outputs": [
    {
     "name": "stdout",
     "output_type": "stream",
     "text": [
      "El valor asociado a la clave 'peces' es: 100\n",
      "Error: La clave 'insectos' no existe en el diccionario.\n"
     ]
    }
   ],
   "source": [
    "def acceder_clave(diccionario, clave):\n",
    "    try:\n",
    "        valor= diccionario[clave]\n",
    "        print(f\"El valor asociado a la clave '{clave}' es: {valor}\")\n",
    "    except KeyError:\n",
    "        print(f\"Error: La clave '{clave}' no existe en el diccionario.\")\n",
    "\n",
    "diccionario1= {\"aves\":20, \"mamíferos\":30, \"peces\":100}\n",
    "\n",
    "acceder_clave(diccionario1, \"peces\")\n",
    "acceder_clave(diccionario1, \"insectos\")"
   ]
  },
  {
   "cell_type": "markdown",
   "metadata": {},
   "source": [
    "\n",
    "#### Ejercicio 7: Verificación de entradas de usuario\n",
    "\n",
    "Escribe un programa que pida al usuario que introduzca su edad. Si el usuario ingresa un valor no numérico o un valor fuera del rango esperado (por ejemplo, menor que 0 o mayor que 120), maneja las excepciones adecuadamente."
   ]
  },
  {
   "cell_type": "code",
   "execution_count": 76,
   "metadata": {},
   "outputs": [
    {
     "name": "stdout",
     "output_type": "stream",
     "text": [
      "El numero 60 es mayor de 50\n"
     ]
    }
   ],
   "source": [
    "lista_magna=[[2, 60, 72, 1], [3, 84]]\n",
    "for list in lista_magna:\n",
    "    for numero in list:\n",
    "        if numero > 50:\n",
    "            print(f\"El numero {numero} es mayor de 50\")\n",
    "            break\n",
    "    break    \n",
    "        \n"
   ]
  },
  {
   "cell_type": "code",
   "execution_count": 77,
   "metadata": {},
   "outputs": [
    {
     "name": "stdout",
     "output_type": "stream",
     "text": [
      "Tienes 25 años de edad\n"
     ]
    }
   ],
   "source": [
    "\n",
    "try:\n",
    "    edad= int(input(\"Introduzca su edad: \"))\n",
    "\n",
    "    if edad < 0 or edad > 120:\n",
    "        print (\"Hay un problema, o no has nacido o ya has fallecido (Si no, llama a las noticias)\")    \n",
    "    print (f\"Tienes {edad} años de edad\")\n",
    "except:\n",
    "    print(\"Has introducido un valor no numérico\")\n"
   ]
  },
  {
   "cell_type": "markdown",
   "metadata": {},
   "source": [
    "#### Ejercicio 8: Extracción de valores de una lista\n",
    "\n",
    "Escribe una función que intente acceder a un índice específico en una lista. Si el índice está fuera del rango, maneja la excepción `IndexError` y muestra un mensaje adecuado.\n"
   ]
  },
  {
   "cell_type": "code",
   "execution_count": 90,
   "metadata": {},
   "outputs": [
    {
     "name": "stdout",
     "output_type": "stream",
     "text": [
      "El valor c es el correspondiente al índice indicado\n",
      "El valor d es el correspondiente al índice indicado\n",
      "En indice deseado está fuera de rango\n",
      "El índice tiene que ser numérico\n"
     ]
    }
   ],
   "source": [
    "\n",
    "def acceso_indice(lista, indice):\n",
    "    try:\n",
    "        indice_deseado= lista[indice]\n",
    "        print (f\"El valor {indice_deseado} es el correspondiente al índice indicado\")\n",
    "    except TypeError:\n",
    "        print(\"El índice tiene que ser numérico\")\n",
    "    except IndexError:\n",
    "        print(\"En indice deseado está fuera de rango\")\n",
    "\n",
    "lista1= [\"a\",\"b\",\"c\",\"d\"]\n",
    "acceso_indice(lista1,2)\n",
    "\n",
    "lista2= [\"a\",\"b\",\"c\",\"d\"]\n",
    "acceso_indice(lista2,3)\n",
    "\n",
    "lista3= [\"a\",\"b\",\"c\",\"d\"]\n",
    "acceso_indice(lista3,4)\n",
    "\n",
    "lista4= [\"a\",\"b\",\"c\",\"d\"]\n",
    "acceso_indice(lista4,\"d\")"
   ]
  }
 ],
 "metadata": {
  "kernelspec": {
   "display_name": "contenido",
   "language": "python",
   "name": "python3"
  },
  "language_info": {
   "codemirror_mode": {
    "name": "ipython",
    "version": 3
   },
   "file_extension": ".py",
   "mimetype": "text/x-python",
   "name": "python",
   "nbconvert_exporter": "python",
   "pygments_lexer": "ipython3",
   "version": "3.11.9"
  }
 },
 "nbformat": 4,
 "nbformat_minor": 2
}
